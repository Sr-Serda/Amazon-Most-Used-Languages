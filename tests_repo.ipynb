{
 "cells": [
  {
   "cell_type": "code",
   "execution_count": 2,
   "metadata": {},
   "outputs": [],
   "source": [
    "import requests"
   ]
  },
  {
   "cell_type": "code",
   "execution_count": 3,
   "metadata": {},
   "outputs": [
    {
     "data": {
      "text/plain": [
       "True"
      ]
     },
     "execution_count": 3,
     "metadata": {},
     "output_type": "execute_result"
    }
   ],
   "source": [
    "from dotenv import load_dotenv\n",
    "import os\n",
    "load_dotenv()"
   ]
  },
  {
   "cell_type": "code",
   "execution_count": 4,
   "metadata": {},
   "outputs": [],
   "source": [
    "auth_token = os.getenv('GITHUB_AUTH_TOKEN')\n",
    "\n",
    "headers = {'Authorization': 'Bearer ' + auth_token,\n",
    "           'X-GitHub-Api-Version': '2022-11-28'}\n",
    "api_base_url = (\"https://api.github.com\")\n",
    "owner = \"amzn\"\n",
    "url = f'{api_base_url}/users/{owner}/repos'\n",
    "repo = requests.get(url, headers=headers)"
   ]
  },
  {
   "cell_type": "code",
   "execution_count": 5,
   "metadata": {},
   "outputs": [],
   "source": [
    "\n",
    "repos_list = []\n",
    "page_num = 1\n",
    "\n",
    "while True:\n",
    "    try:\n",
    "        url_page = f'{url}?page={page_num}'\n",
    "        response = requests.get(url_page, headers=headers)\n",
    "        \n",
    "        # Levantar uma exceção se houver erro no status da resposta\n",
    "        response.raise_for_status()\n",
    "        \n",
    "        data = response.json()\n",
    "        \n",
    "        # Verificar se a resposta está vazia (fim da paginação)\n",
    "        if not data:\n",
    "            break\n",
    "        \n",
    "        repos_list.extend(data)  # Adicionar os resultados na lista\n",
    "        page_num += 1\n",
    "    except Exception as e:\n",
    "        print(f\"Erro na página {page_num}: {e}\")\n",
    "        break\n"
   ]
  },
  {
   "cell_type": "code",
   "execution_count": 6,
   "metadata": {},
   "outputs": [],
   "source": [
    "\n",
    "import csv\n",
    "\n"
   ]
  },
  {
   "cell_type": "code",
   "execution_count": 7,
   "metadata": {},
   "outputs": [
    {
     "name": "stdout",
     "output_type": "stream",
     "text": [
      "Arquivo CSV 'repos_list.csv' criado com sucesso!\n"
     ]
    }
   ],
   "source": [
    "\n",
    "\n",
    "# Nome do arquivo CSV\n",
    "csv_filename = \"repos_list.csv\"\n",
    "\n",
    "# Verifique se repos_list contém uma lista de dicionários\n",
    "if repos_list and isinstance(repos_list[0], dict):\n",
    "    # Pegue os cabeçalhos (colunas) a partir das chaves do primeiro item\n",
    "    headers = repos_list[0].keys()\n",
    "\n",
    "    with open(csv_filename, mode='w', newline='', encoding='utf-8') as csv_file:\n",
    "        writer = csv.DictWriter(csv_file, fieldnames=headers)\n",
    "        \n",
    "        # Escreve o cabeçalho no CSV\n",
    "        writer.writeheader()\n",
    "        \n",
    "        # Escreve os dados\n",
    "        writer.writerows(repos_list)\n",
    "        \n",
    "    print(f\"Arquivo CSV '{csv_filename}' criado com sucesso!\")\n",
    "else:\n",
    "    print(\"repos_list está vazio ou não contém dados válidos.\")\n"
   ]
  },
  {
   "cell_type": "code",
   "execution_count": 8,
   "metadata": {},
   "outputs": [
    {
     "name": "stdout",
     "output_type": "stream",
     "text": [
      "Linguagens extraídas: [None, 'Jupyter Notebook', 'Smarty', 'JavaScript', None, 'Python', 'PHP', 'Java', 'Python', 'CSS', 'Java', 'Java', 'PowerShell', 'Java', 'C#', 'PHP', 'Ruby', 'JavaScript', 'Python', 'PHP', 'Python', 'Jupyter Notebook', 'C#', 'Java', 'JavaScript', 'PHP', 'Ruby', 'C#', 'Java', 'PHP', 'Python', 'Ruby', 'PHP', 'Kotlin', 'PHP', 'Python', 'C', None, 'Swift', 'Python', 'C++', 'Python', 'Go', 'C', 'Python', 'Python', 'Jupyter Notebook', 'Python', 'Python', None, 'Java', 'Kotlin', 'Python', 'Python', 'JavaScript', 'TypeScript', 'Python', 'TypeScript', 'JavaScript', 'TypeScript', 'Python', None, 'Jupyter Notebook', 'Python', 'Python', 'Python', 'Java', 'Jupyter Notebook', 'Python', 'Python', 'Java', 'Objective-C', 'JavaScript', 'TypeScript', 'Java', None, 'Python', 'Python', 'Python', 'Java', 'Java', 'Kotlin', 'Java', 'C#', 'C#', 'JavaScript', 'JavaScript', 'Go', 'Java', 'TypeScript', 'Python', 'C++', None, 'Python', 'Python', 'Java', 'C#', 'HTML', 'Kotlin', None, 'PHP', 'PHP', None, 'JavaScript', 'Python', 'Scala', 'Python', 'Python', 'Python', 'Python', 'Python', 'Python', 'Java', 'TypeScript', 'Swift', 'Python', 'TypeScript', 'TypeScript', 'Ruby', 'Python', 'Python', 'Python', 'C', 'Python', 'Python', 'Python', 'C++', 'Java', None, 'Mustache', 'Java', 'Python', 'Swift', 'JavaScript', 'Swift', 'Swift', 'Swift', 'Swift', 'Swift', 'Swift', 'Swift', 'Swift', 'Swift', 'Python', 'Python', 'Python', 'JavaScript', 'Python', 'TypeScript', 'TypeScript', 'Python', 'Python', 'JavaScript', 'Python', 'Python', 'Zeek', 'Zeek', 'Zeek', 'Zeek', 'Zeek', 'Python']\n"
     ]
    }
   ],
   "source": [
    "\n",
    "repos_language = []\n",
    "\n",
    "\n",
    "while len(repos_list):\n",
    "    try:\n",
    "        # Remover o primeiro item da lista (processar um por vez)\n",
    "        repo = repos_list.pop(0)\n",
    "        \n",
    "        # Verificar se o item é válido (dicionário esperado)\n",
    "        if isinstance(repo, dict):\n",
    "            # Tentar extrair a linguagem principal (assumindo a chave 'language')\n",
    "            language = repo.get('language', 'Desconhecido')\n",
    "            repos_language.append(language)\n",
    "        else:\n",
    "            print(\"Item inválido encontrado na lista.\")\n",
    "    except Exception as e:\n",
    "        print(f\"Erro {e}\")\n",
    "        break\n",
    "\n",
    "print(\"Linguagens extraídas:\", repos_language)\n"
   ]
  },
  {
   "cell_type": "code",
   "execution_count": 9,
   "metadata": {},
   "outputs": [
    {
     "name": "stdout",
     "output_type": "stream",
     "text": [
      "Arquivo CSV 'repos_languages.csv' criado com sucesso!\n"
     ]
    }
   ],
   "source": [
    "\n",
    "\n",
    "import csv\n",
    "\n",
    "# Nome do arquivo CSV\n",
    "csv_filename = \"repos_languages.csv\"\n",
    "\n",
    "# Salvando a lista no arquivo CSV\n",
    "try:\n",
    "    with open(csv_filename, mode='w', newline='', encoding='utf-8') as csv_file:\n",
    "        writer = csv.writer(csv_file)\n",
    "        \n",
    "        # Escrevendo o cabeçalho\n",
    "        writer.writerow([\"Language\"])\n",
    "        \n",
    "        # Escrevendo as linguagens\n",
    "        for language in repos_language:\n",
    "            writer.writerow([language])\n",
    "    \n",
    "    print(f\"Arquivo CSV '{csv_filename}' criado com sucesso!\")\n",
    "except Exception as e:\n",
    "    print(f\"Erro ao criar o arquivo CSV: {e}\")\n"
   ]
  }
 ],
 "metadata": {
  "kernelspec": {
   "display_name": "venv",
   "language": "python",
   "name": "python3"
  },
  "language_info": {
   "codemirror_mode": {
    "name": "ipython",
    "version": 3
   },
   "file_extension": ".py",
   "mimetype": "text/x-python",
   "name": "python",
   "nbconvert_exporter": "python",
   "pygments_lexer": "ipython3",
   "version": "3.9.18"
  }
 },
 "nbformat": 4,
 "nbformat_minor": 2
}
